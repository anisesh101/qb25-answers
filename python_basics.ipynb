{
 "cells": [
  {
   "cell_type": "code",
   "execution_count": null,
   "id": "fbdbfe83",
   "metadata": {},
   "outputs": [],
   "source": [
    "text_data = \"chrI\\t8377406\\t8390027\\tNM_059873.7\\t6\\t-\\nchrI\\t8377598\\t8392758\\tNM_182066.7\\t502\\t-\\nchrI\\t8377600\\t8392768\\tNM_001129046.3\\t7\\t-\\nchrMt\\t1041473\\t1049600\\tNM_058410.5\\t476\\t+\\nchrI\\t3144409\\t3147793\\tNM_058707.5\\t531\\t-\\nchrI\\t4193240\\t4203303\\tNM_058924.6\\t673\\t+\\nchrI\\t6284972\\t6294057\\tNM_059412.6\\t532\\t+\\nchrI\\t6289432\\t6294068\\tNM_001374900.1\\t615\\t+\\nchrI\\t6290315\\t6293988\\tNM_001374901.1\\t709\\t+\\nchrMt\\t7339231\\t7345684\\tNM_001136303.4\\t7\\t+\\nchrI\\t9431248\\t9441017\\tNM_060105.7\\t481\\t+\\nchrI\\t9435464\\t9441029\\tNM_060106.7\\t3\\t+\\nchrMt\\t11526917\\t11557854\\tNM_060545.6\\t498\\t-\\nchrI\\t11526922\\t11552160\\tNM_001383731.1\\t536\\t-\\nchrI\\t11527027\\t11557792\\tNM_001306313.4\\t6\\t-\\nchrI\\t11527076\\t11541127\\tNM_001306312.3\\t7\\t-\\nchrI\\t11527076\\t11546567\\tNM_001306311.3\\t694\\t-\\nchrI\\t11527076\\t11552106\\tNM_001306310.3\\t2\\t-\""
   ]
  },
  {
   "cell_type": "markdown",
   "id": "96495f85",
   "metadata": {},
   "source": [
    "Parse the data from the data string, converting values to appropriate data types as necessary\n",
    "\n",
    "Split the string by the newline character (\\n) to create a list containing one line per list-entry\n",
    "Use a for loop to step through the data, line by line\n",
    "Split each line by the tab characer (\\t) to get values for ecah column\n",
    "Convert position values to integers and expression values to floats"
   ]
  },
  {
   "cell_type": "code",
   "execution_count": null,
   "id": "08532425",
   "metadata": {},
   "outputs": [
    {
     "name": "stdout",
     "output_type": "stream",
     "text": [
      "['chrI\\t8377406\\t8390027\\tNM_059873.7\\t6\\t-', 'chrI\\t8377598\\t8392758\\tNM_182066.7\\t502\\t-', 'chrI\\t8377600\\t8392768\\tNM_001129046.3\\t7\\t-', 'chrMt\\t1041473\\t1049600\\tNM_058410.5\\t476\\t+', 'chrI\\t3144409\\t3147793\\tNM_058707.5\\t531\\t-', 'chrI\\t4193240\\t4203303\\tNM_058924.6\\t673\\t+', 'chrI\\t6284972\\t6294057\\tNM_059412.6\\t532\\t+', 'chrI\\t6289432\\t6294068\\tNM_001374900.1\\t615\\t+', 'chrI\\t6290315\\t6293988\\tNM_001374901.1\\t709\\t+', 'chrMt\\t7339231\\t7345684\\tNM_001136303.4\\t7\\t+', 'chrI\\t9431248\\t9441017\\tNM_060105.7\\t481\\t+', 'chrI\\t9435464\\t9441029\\tNM_060106.7\\t3\\t+', 'chrMt\\t11526917\\t11557854\\tNM_060545.6\\t498\\t-', 'chrI\\t11526922\\t11552160\\tNM_001383731.1\\t536\\t-', 'chrI\\t11527027\\t11557792\\tNM_001306313.4\\t6\\t-', 'chrI\\t11527076\\t11541127\\tNM_001306312.3\\t7\\t-', 'chrI\\t11527076\\t11546567\\tNM_001306311.3\\t694\\t-', 'chrI\\t11527076\\t11552106\\tNM_001306310.3\\t2\\t-']\n",
      "['chrI', '8377406', '8390027', 'NM_059873.7', '6', '-']\n",
      "['chrI', '8377598', '8392758', 'NM_182066.7', '502', '-']\n",
      "['chrI', '8377600', '8392768', 'NM_001129046.3', '7', '-']\n",
      "['chrMt', '1041473', '1049600', 'NM_058410.5', '476', '+']\n",
      "['chrI', '3144409', '3147793', 'NM_058707.5', '531', '-']\n",
      "['chrI', '4193240', '4203303', 'NM_058924.6', '673', '+']\n",
      "['chrI', '6284972', '6294057', 'NM_059412.6', '532', '+']\n",
      "['chrI', '6289432', '6294068', 'NM_001374900.1', '615', '+']\n",
      "['chrI', '6290315', '6293988', 'NM_001374901.1', '709', '+']\n",
      "['chrMt', '7339231', '7345684', 'NM_001136303.4', '7', '+']\n",
      "['chrI', '9431248', '9441017', 'NM_060105.7', '481', '+']\n",
      "['chrI', '9435464', '9441029', 'NM_060106.7', '3', '+']\n",
      "['chrMt', '11526917', '11557854', 'NM_060545.6', '498', '-']\n",
      "['chrI', '11526922', '11552160', 'NM_001383731.1', '536', '-']\n",
      "['chrI', '11527027', '11557792', 'NM_001306313.4', '6', '-']\n",
      "['chrI', '11527076', '11541127', 'NM_001306312.3', '7', '-']\n",
      "['chrI', '11527076', '11546567', 'NM_001306311.3', '694', '-']\n",
      "['chrI', '11527076', '11552106', 'NM_001306310.3', '2', '-']\n"
     ]
    }
   ],
   "source": [
    "# Split the data string into a list of individual lines\n",
    "new_List = list()\n",
    "\n",
    "new_List = text_data.split(\"\\n\")\n",
    "print(new_List)\n",
    "\n",
    "# Step through each line in the list\n",
    "for i in new_List:\n",
    "    i = i.split(\"\\t\")\n",
    "    print(i)\n",
    "    [a,b,c,d,e,f] = i\n",
    "    b = int(b)\n",
    "    c = int(c)"
   ]
  },
  {
   "cell_type": "code",
   "execution_count": null,
   "id": "ca60be46",
   "metadata": {},
   "outputs": [
    {
     "name": "stdout",
     "output_type": "stream",
     "text": [
      "[12621]\n",
      "[6]\n",
      "['-']\n",
      "[12621, 15160]\n",
      "[6, 502]\n",
      "['-', '-']\n",
      "[12621, 15160, 15168]\n",
      "[6, 502, 7]\n",
      "['-', '-', '-']\n",
      "[12621, 15160, 15168, 8127]\n",
      "[6, 502, 7, 476]\n",
      "['-', '-', '-', '+']\n",
      "[12621, 15160, 15168, 8127, 3384]\n",
      "[6, 502, 7, 476, 531]\n",
      "['-', '-', '-', '+', '-']\n",
      "[12621, 15160, 15168, 8127, 3384, 10063]\n",
      "[6, 502, 7, 476, 531, 673]\n",
      "['-', '-', '-', '+', '-', '+']\n",
      "[12621, 15160, 15168, 8127, 3384, 10063, 9085]\n",
      "[6, 502, 7, 476, 531, 673, 532]\n",
      "['-', '-', '-', '+', '-', '+', '+']\n",
      "[12621, 15160, 15168, 8127, 3384, 10063, 9085, 4636]\n",
      "[6, 502, 7, 476, 531, 673, 532, 615]\n",
      "['-', '-', '-', '+', '-', '+', '+', '+']\n",
      "[12621, 15160, 15168, 8127, 3384, 10063, 9085, 4636, 3673]\n",
      "[6, 502, 7, 476, 531, 673, 532, 615, 709]\n",
      "['-', '-', '-', '+', '-', '+', '+', '+', '+']\n",
      "[12621, 15160, 15168, 8127, 3384, 10063, 9085, 4636, 3673, 6453]\n",
      "[6, 502, 7, 476, 531, 673, 532, 615, 709, 7]\n",
      "['-', '-', '-', '+', '-', '+', '+', '+', '+', '+']\n",
      "[12621, 15160, 15168, 8127, 3384, 10063, 9085, 4636, 3673, 6453, 9769]\n",
      "[6, 502, 7, 476, 531, 673, 532, 615, 709, 7, 481]\n",
      "['-', '-', '-', '+', '-', '+', '+', '+', '+', '+', '+']\n",
      "[12621, 15160, 15168, 8127, 3384, 10063, 9085, 4636, 3673, 6453, 9769, 5565]\n",
      "[6, 502, 7, 476, 531, 673, 532, 615, 709, 7, 481, 3]\n",
      "['-', '-', '-', '+', '-', '+', '+', '+', '+', '+', '+', '+']\n",
      "[12621, 15160, 15168, 8127, 3384, 10063, 9085, 4636, 3673, 6453, 9769, 5565, 30937]\n",
      "[6, 502, 7, 476, 531, 673, 532, 615, 709, 7, 481, 3, 498]\n",
      "['-', '-', '-', '+', '-', '+', '+', '+', '+', '+', '+', '+', '-']\n",
      "[12621, 15160, 15168, 8127, 3384, 10063, 9085, 4636, 3673, 6453, 9769, 5565, 30937, 25238]\n",
      "[6, 502, 7, 476, 531, 673, 532, 615, 709, 7, 481, 3, 498, 536]\n",
      "['-', '-', '-', '+', '-', '+', '+', '+', '+', '+', '+', '+', '-', '-']\n",
      "[12621, 15160, 15168, 8127, 3384, 10063, 9085, 4636, 3673, 6453, 9769, 5565, 30937, 25238, 30765]\n",
      "[6, 502, 7, 476, 531, 673, 532, 615, 709, 7, 481, 3, 498, 536, 6]\n",
      "['-', '-', '-', '+', '-', '+', '+', '+', '+', '+', '+', '+', '-', '-', '-']\n",
      "[12621, 15160, 15168, 8127, 3384, 10063, 9085, 4636, 3673, 6453, 9769, 5565, 30937, 25238, 30765, 14051]\n",
      "[6, 502, 7, 476, 531, 673, 532, 615, 709, 7, 481, 3, 498, 536, 6, 7]\n",
      "['-', '-', '-', '+', '-', '+', '+', '+', '+', '+', '+', '+', '-', '-', '-', '-']\n",
      "[12621, 15160, 15168, 8127, 3384, 10063, 9085, 4636, 3673, 6453, 9769, 5565, 30937, 25238, 30765, 14051, 19491]\n",
      "[6, 502, 7, 476, 531, 673, 532, 615, 709, 7, 481, 3, 498, 536, 6, 7, 694]\n",
      "['-', '-', '-', '+', '-', '+', '+', '+', '+', '+', '+', '+', '-', '-', '-', '-', '-']\n",
      "[12621, 15160, 15168, 8127, 3384, 10063, 9085, 4636, 3673, 6453, 9769, 5565, 30937, 25238, 30765, 14051, 19491, 25030]\n",
      "[6, 502, 7, 476, 531, 673, 532, 615, 709, 7, 481, 3, 498, 536, 6, 7, 694, 2]\n",
      "['-', '-', '-', '+', '-', '+', '+', '+', '+', '+', '+', '+', '-', '-', '-', '-', '-', '-']\n"
     ]
    }
   ],
   "source": [
    "\n",
    "# Split the data string into a list of individual lines\n",
    "new_List = list()\n",
    "\n",
    "new_List = text_data.split(\"\\n\")\n",
    "print(new_List)\n",
    "\n",
    "gene_Lengths = []\n",
    "expression_Data = []\n",
    "strandedness_Array = []\n",
    "\n",
    "# Step through each line in the list\n",
    "for i in new_List:\n",
    "    i = i.split(\"\\t\")\n",
    "    #print(i)\n",
    "    [chromosome, start, end, sample_ID, I_Dont_Know, strandeness] = i\n",
    "    start = int(start)\n",
    "    I_Dont_Know = int(I_Dont_Know)\n",
    "    end = int(end)\n",
    "    if(chromosome != \"chrmMt\"):\n",
    "        gene_Lengths.append(end - start)\n",
    "        expression_Data.append(I_Dont_Know)\n",
    "        strandedness_Array += strandeness\n",
    "        #print(gene_Lengths)\n",
    "        #print(expression_Data)\n",
    "        #print(strandedness_Array)\n",
    "\n",
    "\n",
    "# Create a list for recording expression data, one for recording gene lengths, and one for recording strandedness\n",
    "\n",
    "\n",
    "\n",
    "# Step through each line in the list\n",
    "\n",
    "    # Split the line into a list of individual fields\n",
    "\n",
    "    # Assign each field to a variable (chrom, start, stop, etc.), converting the data type if necessary\n",
    "\n",
    "    # Check if gene is from \"chrMt\" and if so, skip\n",
    "\n",
    "    # Add the expression value, gene size, and strandedness to their corresponding lists\n"
   ]
  },
  {
   "cell_type": "code",
   "execution_count": null,
   "id": "be0ad20a",
   "metadata": {},
   "outputs": [
    {
     "name": "stdout",
     "output_type": "stream",
     "text": [
      "[2, 3, 6, 6, 7, 7, 7, 476, 481, 498, 502, 531, 532, 536, 615, 673, 694, 709]\n",
      "The first quartile is at position 4 and the value is 7\n",
      "The second quartile is at position 9 and the value is 498\n",
      "The third quartile is at position 14 and the value is 615\n"
     ]
    }
   ],
   "source": [
    "# Sort your expression values from lowest to highest\n",
    "expression_Data.sort()\n",
    "print(expression_Data)\n",
    "\n",
    "# Determine which position in the list corresponds to the first, second, and third quartiles\n",
    "# Find the value from those positions in your expression list\n",
    "# Report your results\n",
    "\n",
    "expression_Length = len(expression_Data)\n",
    "first_Quart = expression_Data[int(0.25*(expression_Length + 1))]\n",
    "print(\"The first quartile is at position\", int(0.25*(expression_Length + 1)), \"and the value is\", first_Quart)\n",
    "\n",
    "second_Quart = expression_Data[int(0.5*(expression_Length + 1))]\n",
    "print(\"The second quartile is at position\", int(0.5*(expression_Length + 1)), \"and the value is\", second_Quart)\n",
    "\n",
    "third_Quart = expression_Data[int(0.75*(expression_Length + 1))]\n",
    "print(\"The third quartile is at position\", int(0.75*(expression_Length + 1)), \"and the value is\", third_Quart)"
   ]
  },
  {
   "cell_type": "code",
   "execution_count": 117,
   "id": "0d8e8a97",
   "metadata": {},
   "outputs": [
    {
     "name": "stdout",
     "output_type": "stream",
     "text": [
      "lowest: 3384 highest: 30937\n"
     ]
    }
   ],
   "source": [
    "# Sort your gene sizes values from lowest to highest\n",
    "gene_Lengths.sort()\n",
    "#print(gene_Lengths)\n",
    "\n",
    "# Find the largest and smallest gene sizes\n",
    "print(\"lowest:\", gene_Lengths[0], \"highest:\", gene_Lengths[len(gene_Lengths) - 1])\n"
   ]
  },
  {
   "cell_type": "code",
   "execution_count": 116,
   "id": "6cf5503c",
   "metadata": {},
   "outputs": [
    {
     "name": "stdout",
     "output_type": "stream",
     "text": [
      "Positive strand percentage 44.44444444444444 %\n",
      "Negative strand percentage 55.55555555555556 %\n"
     ]
    }
   ],
   "source": [
    "# Calculate the percentage of positive strand genes\n",
    "pos_Count = 0\n",
    "neg_Count = 0\n",
    "for i in strandedness_Array:\n",
    "    if i == '+':\n",
    "        pos_Count += 1\n",
    "    else:\n",
    "        neg_Count += 1\n",
    "\n",
    "# Report your results\n",
    "total = pos_Count + neg_Count\n",
    "print(\"Positive strand percentage\", 100*pos_Count/total, \"%\")\n",
    "print(\"Negative strand percentage\", 100*neg_Count/total, \"%\")\n"
   ]
  }
 ],
 "metadata": {
  "kernelspec": {
   "display_name": "qb25",
   "language": "python",
   "name": "python3"
  },
  "language_info": {
   "codemirror_mode": {
    "name": "ipython",
    "version": 3
   },
   "file_extension": ".py",
   "mimetype": "text/x-python",
   "name": "python",
   "nbconvert_exporter": "python",
   "pygments_lexer": "ipython3",
   "version": "3.12.3"
  }
 },
 "nbformat": 4,
 "nbformat_minor": 5
}
